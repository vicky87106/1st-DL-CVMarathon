{
 "cells": [
  {
   "cell_type": "markdown",
   "metadata": {},
   "source": [
    "# 作業\n",
    "\n",
    "練習以旋轉變換 + 平移變換來實現仿射變換\n",
    "> 旋轉 45 度 + 縮放 0.5 倍 + 平移 (x+100, y-50)"
   ]
  },
  {
   "cell_type": "code",
   "execution_count": 1,
   "metadata": {},
   "outputs": [],
   "source": [
    "import cv2\n",
    "import time\n",
    "import numpy as np\n",
    "img = cv2.imread('lena.png')"
   ]
  },
  {
   "cell_type": "code",
   "execution_count": 2,
   "metadata": {},
   "outputs": [],
   "source": [
    "\"\"\"\n",
    "cos = math.cos(math.pi/4)\n",
    "sin = math.sin(math.pi/4)\n",
    "rotate_matrix = [[cos,-sin],[sin,cos]]\n",
    "translate = np.array([[100],[-50]], dtype=np.float32)\n",
    "print(translate)\n",
    "\"\"\"\n",
    "#取圖片的大小\n",
    "rows, cols = img.shape[:2]\n",
    "#旋轉矩陣 cv2.getRotationMatrix2D(中⼼位置,旋轉⾓角度,縮放倍率)\n",
    "rotate_matrix = cv2.getRotationMatrix2D((cols//2, rows//2),45,0.5)\n",
    "img_rotate = cv2.warpAffine(img,rotate_matrix,(cols,rows))\n",
    "#平移矩陣\n",
    "trans_matrix = np.array([[1,0,100],[0,1,-50]],dtype=np.float32)\n",
    "img_rotate_trans = cv2.warpAffine(img_rotate,trans_matrix,(cols,rows))\n",
    "# 組合 + 顯示圖片\n",
    "img_show_rotate_trans = np.hstack((img, img_rotate, img_rotate_trans))\n",
    "while True:\n",
    "    cv2.imshow('Rotate 45, scale 0.5, Translate x+100, y-50', img_show_rotate_trans)\n",
    "    k = cv2.waitKey(0)\n",
    "    if k == 27:\n",
    "        cv2.destroyAllWindows()\n",
    "        break"
   ]
  },
  {
   "cell_type": "markdown",
   "metadata": {},
   "source": [
    "## Affine Transformation - Case 2: any three point"
   ]
  },
  {
   "cell_type": "code",
   "execution_count": 3,
   "metadata": {},
   "outputs": [
    {
     "name": "stdout",
     "output_type": "stream",
     "text": [
      "[[ 80.]\n",
      " [ 80.]\n",
      " [330.]\n",
      " [150.]\n",
      " [300.]\n",
      " [300.]]\n",
      "6\n",
      "0\n",
      "1\n",
      "2\n",
      "3\n",
      "4\n",
      "5\n",
      "[[ 50.  50.   1.   0.   0.   0.]\n",
      " [  0.   0.   0.  50.  50.   1.]\n",
      " [300. 100.   1.   0.   0.   0.]\n",
      " [  0.   0.   0. 300. 100.   1.]\n",
      " [200. 300.   1.   0.   0.   0.]\n",
      " [  0.   0.   0. 200. 300.   1.]]\n",
      "[[ 0.93636364]\n",
      " [ 0.31818182]\n",
      " [17.27272727]\n",
      " [ 0.11818182]\n",
      " [ 0.80909091]\n",
      " [33.63636364]]\n"
     ]
    }
   ],
   "source": [
    "# 給定兩兩一對，共三對的點\n",
    "# 這邊我們先用手動設定三對點，一般情況下會有點的資料或是透過介面手動標記三個點\n",
    "rows, cols = img.shape[:2]\n",
    "pt1 = np.array([[50,50], [300,100], [200,300]], dtype=np.float32)\n",
    "pt2 = np.array([[80,80], [330,150], [300,300]], dtype=np.float32)\n",
    "\n",
    "# 取得 affine 矩陣並做 affine 操作\n",
    "re_pt2 = np.reshape(pt2, (6,1))\n",
    "print(re_pt2)\n",
    "re_pt1 = np.zeros((6,6))\n",
    "print(np.size(pt1))\n",
    "count = 0\n",
    "for i in range(np.size(pt1)):\n",
    "    print(i)\n",
    "    if (i%2==0):\n",
    "        re_pt1[i][0]=pt1[count][0]\n",
    "        re_pt1[i][1]=pt1[count][1]\n",
    "        re_pt1[i][2]=1\n",
    "        count = count + 1\n",
    "    elif(i%2==1):\n",
    "        re_pt1[i][3]=re_pt1[i-1][0]\n",
    "        re_pt1[i][4]=re_pt1[i-1][1]\n",
    "        re_pt1[i][5]=1\n",
    "        \n",
    "print(re_pt1)\n",
    "M_affine = np.linalg.inv(re_pt1).dot(re_pt2)\n",
    "affine = np.zeros((2,3),dtype=np.float32)\n",
    "print(M_affine)\n",
    "affine[0][0] = M_affine[0][0]\n",
    "affine[1][0] = M_affine[1][0]\n",
    "affine[0][1] = M_affine[2][0]\n",
    "affine[1][1] = M_affine[3][0]\n",
    "affine[0][2] = M_affine[4][0]\n",
    "affine[1][2] = M_affine[5][0]\n",
    "img_affine = cv2.warpAffine(img,affine,(cols,rows))\n",
    "# 在圖片上標記點\n",
    "img_copy = img.copy()\n",
    "for idx, pts in enumerate(pt1):\n",
    "    pts = tuple(map(int, pts))\n",
    "    cv2.circle(img_copy, pts, 3, (0, 255, 0), -1)\n",
    "    cv2.putText(img_copy, str(idx), (pts[0]+5, pts[1]+5), cv2.FONT_HERSHEY_COMPLEX, 1, (0, 255, 0), 1)\n",
    "\n",
    "for idx, pts in enumerate(pt2):\n",
    "    pts = tuple(map(int, pts))\n",
    "    cv2.circle(img_affine, pts, 3, (0, 255, 0), -1)\n",
    "    cv2.putText(img_affine, str(idx), (pts[0]+5, pts[1]+5), cv2.FONT_HERSHEY_COMPLEX, 1, (0, 255, 0), 1)\n",
    "\n",
    "# 組合 + 顯示圖片\n",
    "img_show_affine = np.hstack((img_copy, img_affine))\n",
    "while True:\n",
    "    cv2.imshow('affine transformation', img_show_affine)\n",
    "    k = cv2.waitKey(0)\n",
    "    if k == 27:\n",
    "        cv2.destroyAllWindows()\n",
    "        break"
   ]
  },
  {
   "cell_type": "code",
   "execution_count": null,
   "metadata": {},
   "outputs": [],
   "source": []
  }
 ],
 "metadata": {
  "kernelspec": {
   "display_name": "Python 3",
   "language": "python",
   "name": "python3"
  },
  "language_info": {
   "codemirror_mode": {
    "name": "ipython",
    "version": 3
   },
   "file_extension": ".py",
   "mimetype": "text/x-python",
   "name": "python",
   "nbconvert_exporter": "python",
   "pygments_lexer": "ipython3",
   "version": "3.7.4"
  }
 },
 "nbformat": 4,
 "nbformat_minor": 2
}
