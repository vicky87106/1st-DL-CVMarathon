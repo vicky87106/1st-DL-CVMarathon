{
  "nbformat": 4,
  "nbformat_minor": 0,
  "metadata": {
    "colab": {
      "name": "Untitled0.ipynb",
      "provenance": []
    },
    "kernelspec": {
      "name": "python3",
      "display_name": "Python 3"
    }
  },
  "cells": [
    {
      "cell_type": "code",
      "metadata": {
        "id": "C8H_pqUWPjMB",
        "colab_type": "code",
        "colab": {
          "base_uri": "https://localhost:8080/",
          "height": 34
        },
        "outputId": "1d89fa22-104f-4fec-8a84-bd4d0b005798"
      },
      "source": [
        "%tensorflow_version 2.x\n",
        "from keras.models import Sequential\n",
        "from keras.layers import Convolution2D\n",
        "from keras.layers import Input, Dense\n",
        "from keras.models import Model"
      ],
      "execution_count": 5,
      "outputs": [
        {
          "output_type": "stream",
          "text": [
            "TensorFlow is already loaded. Please restart the runtime to change versions.\n"
          ],
          "name": "stdout"
        }
      ]
    },
    {
      "cell_type": "code",
      "metadata": {
        "id": "_Mb5fLykPvRU",
        "colab_type": "code",
        "colab": {
          "base_uri": "https://localhost:8080/",
          "height": 235
        },
        "outputId": "e217d5c7-07a3-4cce-cb46-48d4950ee745"
      },
      "source": [
        "##輸入照片尺寸==28*28*1\n",
        "input_shape=(28,28,1)\n",
        "##都用一層，288個神經元\n",
        "\n",
        "##建造一個一層的CNN層\n",
        "classifier=Sequential()\n",
        "\n",
        "##Kernel size 3*3，用32張，輸入大小28*28*1\n",
        "classifier.add(Convolution2D(filters = (3,3),kernel_size =32))(input_shape)#'''32張Kernel，大小為3*3，輸入尺寸為28*28*1'''\n",
        "\n",
        "##看看model結構\n",
        "print(classifier.summary())\n",
        "#'''理解輸出Total params為何==320'''\n",
        "\n",
        "##建造一個一層的FC層\n",
        "classifier=Sequential()\n",
        "##輸入為28*28*1攤平==784\n",
        "inputs = Input()#'''輸入尺寸為28*28*1'''\n",
        "##CNN中用了(3*3*1)*32個神經元，我們這邊也用相同神經元數量\n",
        "x=Dense()(inputs)#'''使用288個神經元'''\n",
        "model = Model(inputs=inputs, outputs=x)\n",
        "##看看model結構\n",
        "print(model.summary())\n",
        "#'''理解輸出Total params為何==226080'''\n",
        "\n",
        "##大家可以自己變換設定看看參數變化"
      ],
      "execution_count": 11,
      "outputs": [
        {
          "output_type": "error",
          "ename": "TypeError",
          "evalue": "ignored",
          "traceback": [
            "\u001b[0;31m---------------------------------------------------------------------------\u001b[0m",
            "\u001b[0;31mTypeError\u001b[0m                                 Traceback (most recent call last)",
            "\u001b[0;32m<ipython-input-11-97b0f1c3fa71>\u001b[0m in \u001b[0;36m<module>\u001b[0;34m()\u001b[0m\n\u001b[1;32m      6\u001b[0m \u001b[0;34m\u001b[0m\u001b[0m\n\u001b[1;32m      7\u001b[0m \u001b[0;31m##Kernel size 3*3，用32張，輸入大小28*28*1\u001b[0m\u001b[0;34m\u001b[0m\u001b[0;34m\u001b[0m\u001b[0;34m\u001b[0m\u001b[0m\n\u001b[0;32m----> 8\u001b[0;31m \u001b[0mclassifier\u001b[0m\u001b[0;34m.\u001b[0m\u001b[0madd\u001b[0m\u001b[0;34m(\u001b[0m\u001b[0mConvolution2D\u001b[0m\u001b[0;34m(\u001b[0m\u001b[0mfilters\u001b[0m \u001b[0;34m=\u001b[0m \u001b[0;34m(\u001b[0m\u001b[0;36m3\u001b[0m\u001b[0;34m,\u001b[0m\u001b[0;36m3\u001b[0m\u001b[0;34m)\u001b[0m\u001b[0;34m,\u001b[0m\u001b[0mkernel_size\u001b[0m \u001b[0;34m=\u001b[0m\u001b[0;36m32\u001b[0m\u001b[0;34m)\u001b[0m\u001b[0;34m)\u001b[0m\u001b[0;34m(\u001b[0m\u001b[0minput_shape\u001b[0m\u001b[0;34m)\u001b[0m\u001b[0;31m#'''32張Kernel，大小為3*3，輸入尺寸為28*28*1'''\u001b[0m\u001b[0;34m\u001b[0m\u001b[0;34m\u001b[0m\u001b[0m\n\u001b[0m\u001b[1;32m      9\u001b[0m \u001b[0;34m\u001b[0m\u001b[0m\n\u001b[1;32m     10\u001b[0m \u001b[0;31m##看看model結構\u001b[0m\u001b[0;34m\u001b[0m\u001b[0;34m\u001b[0m\u001b[0;34m\u001b[0m\u001b[0m\n",
            "\u001b[0;31mTypeError\u001b[0m: 'NoneType' object is not callable"
          ]
        }
      ]
    }
  ]
}