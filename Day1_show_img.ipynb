{
 "cells": [
  {
   "cell_type": "code",
   "execution_count": 16,
   "metadata": {},
   "outputs": [],
   "source": [
    "import cv2\n",
    "#灰階 cv2.IMREAD_GRAYSCALE\n",
    "#載入圖片中所有channel cv2.IMREAD_UNCHANGED\n",
    "#(預設)載入包含紅綠藍三個通道的彩色圖片 cv2.IMREAD_COLOR\n",
    "img = cv2.imread('giraffe.png',cv2.IMREAD_UNCHANGED)\n",
    "cv2.imshow('giraffe',img)\n",
    "cv2.waitKey(0) #顯示圖片之後，按任意鍵關閉視窗\n",
    "cv2.destroyAllWindows()"
   ]
  },
  {
   "cell_type": "code",
   "execution_count": null,
   "metadata": {},
   "outputs": [],
   "source": []
  }
 ],
 "metadata": {
  "kernelspec": {
   "display_name": "Python 3",
   "language": "python",
   "name": "python3"
  },
  "language_info": {
   "codemirror_mode": {
    "name": "ipython",
    "version": 3
   },
   "file_extension": ".py",
   "mimetype": "text/x-python",
   "name": "python",
   "nbconvert_exporter": "python",
   "pygments_lexer": "ipython3",
   "version": "3.7.4"
  }
 },
 "nbformat": 4,
 "nbformat_minor": 2
}
