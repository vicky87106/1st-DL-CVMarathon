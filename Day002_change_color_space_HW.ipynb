{
 "cells": [
  {
   "cell_type": "markdown",
   "metadata": {},
   "source": [
    "# 作業\n",
    "\n",
    "使用 [Lena](http://optipng.sourceforge.net/pngtech/img/lena.png)\n",
    "\n",
    "- 改變圖片的 color space (`HLS`, `LAB`) 並呈現"
   ]
  },
  {
   "cell_type": "code",
   "execution_count": 10,
   "metadata": {},
   "outputs": [],
   "source": [
    "#從BGR轉換到HLS cv2.COLOR_BGR2HLS\n",
    "#從BGR轉換到HSV cv2.COLOR_BGR2HSV\n",
    "#從BGR轉換到LAB cv2.COLOR_BGR2LAB\n",
    "import cv2\n",
    "img = cv2.imread('lena.png',cv2.IMREAD_UNCHANGED)\n",
    "imgHLS = cv2.cvtColor(img,cv2.COLOR_BGR2HLS)\n",
    "cv2.imshow('lena_HLS',imgHLS)\n",
    "\n",
    "imgLAB = cv2.cvtColor(img,cv2.COLOR_BGR2LAB)\n",
    "cv2.imshow('lena_LAB',imgLAB)\n",
    "cv2.waitKey(0) #顯示圖片之後，按任意鍵關閉視窗\n",
    "cv2.destroyAllWindows()"
   ]
  },
  {
   "cell_type": "code",
   "execution_count": null,
   "metadata": {},
   "outputs": [],
   "source": []
  }
 ],
 "metadata": {
  "kernelspec": {
   "display_name": "Python 3",
   "language": "python",
   "name": "python3"
  },
  "language_info": {
   "codemirror_mode": {
    "name": "ipython",
    "version": 3
   },
   "file_extension": ".py",
   "mimetype": "text/x-python",
   "name": "python",
   "nbconvert_exporter": "python",
   "pygments_lexer": "ipython3",
   "version": "3.7.4"
  }
 },
 "nbformat": 4,
 "nbformat_minor": 2
}
